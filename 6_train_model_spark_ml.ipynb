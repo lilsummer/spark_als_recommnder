{
 "cells": [
  {
   "cell_type": "markdown",
   "metadata": {},
   "source": [
    "### Load data"
   ]
  },
  {
   "cell_type": "markdown",
   "metadata": {},
   "source": [
    "#### spark start"
   ]
  },
  {
   "cell_type": "code",
   "execution_count": 4,
   "metadata": {},
   "outputs": [],
   "source": [
    "sc.stop()"
   ]
  },
  {
   "cell_type": "code",
   "execution_count": 5,
   "metadata": {},
   "outputs": [],
   "source": [
    "import findspark\n",
    "findspark.init()\n",
    "import pyspark\n",
    "import random\n",
    "#sc = pyspark.SparkContext(appName=\"myapp\")"
   ]
  },
  {
   "cell_type": "code",
   "execution_count": 6,
   "metadata": {},
   "outputs": [],
   "source": [
    "sc = pyspark.SparkContext()"
   ]
  },
  {
   "cell_type": "code",
   "execution_count": 7,
   "metadata": {},
   "outputs": [
    {
     "name": "stdout",
     "output_type": "stream",
     "text": [
      "\n"
     ]
    }
   ],
   "source": [
    "! echo $JAVA_OPTIONS"
   ]
  },
  {
   "cell_type": "code",
   "execution_count": 8,
   "metadata": {},
   "outputs": [
    {
     "name": "stdout",
     "output_type": "stream",
     "text": [
      "/usr/local/opt/apache-spark/libexec\n"
     ]
    }
   ],
   "source": [
    "!echo $SPARK_HOME"
   ]
  },
  {
   "cell_type": "code",
   "execution_count": 9,
   "metadata": {},
   "outputs": [
    {
     "name": "stdout",
     "output_type": "stream",
     "text": [
      "\n"
     ]
    }
   ],
   "source": [
    "!echo $PYTHON_PATH"
   ]
  },
  {
   "cell_type": "code",
   "execution_count": 11,
   "metadata": {},
   "outputs": [
    {
     "name": "stdout",
     "output_type": "stream",
     "text": [
      "/Library/Java/JavaVirtualMachines/jdk1.8.0_171.jdk/Contents/Home\n"
     ]
    }
   ],
   "source": [
    "! /usr/libexec/java_home -v 1.8"
   ]
  },
  {
   "cell_type": "code",
   "execution_count": 12,
   "metadata": {},
   "outputs": [],
   "source": [
    "#sc = pyspark.SparkContext('local')"
   ]
  },
  {
   "cell_type": "code",
   "execution_count": 13,
   "metadata": {},
   "outputs": [],
   "source": [
    "from pyspark import SparkContext, SQLContext"
   ]
  },
  {
   "cell_type": "code",
   "execution_count": 14,
   "metadata": {},
   "outputs": [],
   "source": [
    "sql = SQLContext(sc)"
   ]
  },
  {
   "cell_type": "code",
   "execution_count": 15,
   "metadata": {},
   "outputs": [],
   "source": [
    "from pyspark.sql.types import *\n",
    "from pyspark.mllib.linalg import Vectors\n",
    "from pyspark.mllib.linalg import DenseVector\n",
    "from pyspark.ml.feature import VectorAssembler\n",
    "from pyspark.ml.feature import StringIndexer, VectorIndexer\n",
    "from pyspark.ml import Pipeline\n",
    "from pyspark.ml.classification import LogisticRegression\n",
    "from pyspark.ml.classification import DecisionTreeClassifier\n",
    "from pyspark.ml.classification import RandomForestClassifier\n",
    "from pyspark.ml.classification import GBTClassifier\n",
    "from pyspark.ml.tuning import CrossValidator, ParamGridBuilder\n",
    "from pyspark.ml.evaluation import BinaryClassificationEvaluator\n",
    "from pyspark.ml.evaluation import MulticlassClassificationEvaluator"
   ]
  },
  {
   "cell_type": "code",
   "execution_count": null,
   "metadata": {},
   "outputs": [],
   "source": []
  },
  {
   "cell_type": "code",
   "execution_count": 16,
   "metadata": {},
   "outputs": [
    {
     "name": "stdout",
     "output_type": "stream",
     "text": [
      "+---------+-----+-------------+-------------+-------------+--------------+--------------+-------------+-------------+-------------+--------------+--------------+-------------+-------------+-------------+--------------+--------------+--------------+--------------+--------------+-----------+\n",
      "|      uid|label|freq_P_last_1|freq_P_last_3|freq_P_last_7|freq_P_last_14|freq_P_last_30|freq_D_last_1|freq_D_last_3|freq_D_last_7|freq_D_last_14|freq_D_last_30|freq_S_last_1|freq_S_last_3|freq_S_last_7|freq_S_last_14|freq_S_last_30|days_fr_last_d|days_fr_last_p|days_fr_last_s|device_type|\n",
      "+---------+-----+-------------+-------------+-------------+--------------+--------------+-------------+-------------+-------------+--------------+--------------+-------------+-------------+-------------+--------------+--------------+--------------+--------------+--------------+-----------+\n",
      "|149292492|    1|            0|            3|            3|             3|            14|            0|            0|            0|             0|             0|            0|            0|            0|             0|             0|            99|             0|            99|          2|\n",
      "|158837803|    1|            0|            0|            0|             0|             3|            0|            0|            0|             0|             0|            0|            0|            0|             0|             0|            99|             0|            99|          2|\n",
      "|162228038|    0|            0|           30|           30|            30|            31|            0|            0|            0|             0|             0|            0|            0|            0|             0|             0|            99|            24|            99|          2|\n",
      "|165988992|    0|            2|            4|           14|            76|            83|            0|            0|            0|            17|            18|            0|            0|            0|             2|             2|             0|             0|             0|          2|\n",
      "|167181628|    1|            0|            0|            5|            10|            48|            0|            0|            0|             0|             3|            0|            0|            0|             0|             0|             0|             0|            99|          2|\n",
      "+---------+-----+-------------+-------------+-------------+--------------+--------------+-------------+-------------+-------------+--------------+--------------+-------------+-------------+-------------+--------------+--------------+--------------+--------------+--------------+-----------+\n",
      "only showing top 5 rows\n",
      "\n"
     ]
    }
   ],
   "source": [
    "df = sql.read.csv('../data/df_model_final.csv',header=True,inferSchema=True).cache()\n",
    "df.show(5)"
   ]
  },
  {
   "cell_type": "code",
   "execution_count": 17,
   "metadata": {},
   "outputs": [
    {
     "data": {
      "text/plain": [
       "DataFrame[uid: int, label: int, freq_P_last_1: int, freq_P_last_3: int, freq_P_last_7: int, freq_P_last_14: int, freq_P_last_30: int, freq_D_last_1: int, freq_D_last_3: int, freq_D_last_7: int, freq_D_last_14: int, freq_D_last_30: int, freq_S_last_1: int, freq_S_last_3: int, freq_S_last_7: int, freq_S_last_14: int, freq_S_last_30: int, days_fr_last_d: int, days_fr_last_p: int, days_fr_last_s: int, device_type: int]"
      ]
     },
     "execution_count": 17,
     "metadata": {},
     "output_type": "execute_result"
    }
   ],
   "source": [
    "df"
   ]
  },
  {
   "cell_type": "markdown",
   "metadata": {},
   "source": [
    "### Prepare training data"
   ]
  },
  {
   "cell_type": "code",
   "execution_count": 18,
   "metadata": {},
   "outputs": [
    {
     "data": {
      "text/plain": [
       "['freq_P_last_1',\n",
       " 'freq_P_last_3',\n",
       " 'freq_P_last_7',\n",
       " 'freq_P_last_14',\n",
       " 'freq_P_last_30',\n",
       " 'freq_D_last_1',\n",
       " 'freq_D_last_3',\n",
       " 'freq_D_last_7',\n",
       " 'freq_D_last_14',\n",
       " 'freq_D_last_30',\n",
       " 'freq_S_last_1',\n",
       " 'freq_S_last_3',\n",
       " 'freq_S_last_7',\n",
       " 'freq_S_last_14',\n",
       " 'freq_S_last_30',\n",
       " 'days_fr_last_d',\n",
       " 'days_fr_last_p',\n",
       " 'days_fr_last_s']"
      ]
     },
     "execution_count": 18,
     "metadata": {},
     "output_type": "execute_result"
    }
   ],
   "source": [
    "selected_features = df.columns\n",
    "selected_features.remove('uid')\n",
    "selected_features.remove('label')\n",
    "selected_features.remove('device_type')\n",
    "selected_features"
   ]
  },
  {
   "cell_type": "code",
   "execution_count": 19,
   "metadata": {},
   "outputs": [],
   "source": [
    "# training data\n",
    "assembler = VectorAssembler(\n",
    "    inputCols=selected_features,\n",
    "    outputCol=\"features\")\n",
    "data = assembler.transform(df)\n",
    "\n",
    "# train test split\n",
    "(train, test) = data.randomSplit([0.7, 0.3], seed=1)"
   ]
  },
  {
   "cell_type": "markdown",
   "metadata": {},
   "source": [
    "### Fit logistic regression"
   ]
  },
  {
   "cell_type": "code",
   "execution_count": 20,
   "metadata": {},
   "outputs": [],
   "source": [
    "ml = LogisticRegression(maxIter=3, regParam=0.01)\n",
    "model = ml.fit(train)"
   ]
  },
  {
   "cell_type": "markdown",
   "metadata": {},
   "source": [
    "### Predict and Evaluate performance"
   ]
  },
  {
   "cell_type": "code",
   "execution_count": 16,
   "metadata": {},
   "outputs": [
    {
     "name": "stdout",
     "output_type": "stream",
     "text": [
      "+--------------------+----------+-----+--------------------+\n",
      "|         probability|prediction|label|            features|\n",
      "+--------------------+----------+-----+--------------------+\n",
      "|[0.29640052824289...|       1.0|    1|(18,[4,14,15,16],...|\n",
      "|[0.19020827832957...|       1.0|    1|(18,[4,15,17],[11...|\n",
      "|[0.86124446479868...|       0.0|    0|[0.0,51.0,62.0,67...|\n",
      "|[0.68134011670342...|       0.0|    0|(18,[1,2,3,4,8,9,...|\n",
      "|[0.20544356859362...|       1.0|    1|(18,[3,4,15,17],[...|\n",
      "+--------------------+----------+-----+--------------------+\n",
      "only showing top 5 rows\n",
      "\n",
      "+--------------------+----------+-----+--------------------+\n",
      "|         probability|prediction|label|            features|\n",
      "+--------------------+----------+-----+--------------------+\n",
      "|[0.99979101464053...|       0.0|    0|[82.0,222.0,441.0...|\n",
      "|[0.90995706283325...|       0.0|    0|[2.0,16.0,97.0,24...|\n",
      "|[0.42729205517053...|       1.0|    0|(18,[1,2,3,4,14,1...|\n",
      "|[0.78756777789089...|       0.0|    0|(18,[0,1,2,3,4,8,...|\n",
      "|[0.99671313012632...|       0.0|    0|(18,[2,3,4,8,9,17...|\n",
      "+--------------------+----------+-----+--------------------+\n",
      "only showing top 5 rows\n",
      "\n"
     ]
    }
   ],
   "source": [
    "#### predict and evaluate performance\n",
    "\n",
    "# Predict train data\n",
    "predictions_train = model.transform(train)\n",
    "\n",
    "# Select example rows to display.\n",
    "predictions_train.select(\"probability\",\"prediction\", \"label\", \"features\").show(5)\n",
    "res_train = predictions_train.select(\"probability\", \"label\").toPandas()\n",
    "\n",
    "\n",
    "# Predict test data\n",
    "predictions_test = model.transform(test)\n",
    "\n",
    "# Select example rows to display.\n",
    "predictions_test.select(\"probability\",\"prediction\", \"label\", \"features\").show(5)\n",
    "res_test = predictions_test.select(\"probability\", \"label\").toPandas()\n"
   ]
  },
  {
   "cell_type": "markdown",
   "metadata": {},
   "source": [
    "### Evaluate performance"
   ]
  },
  {
   "cell_type": "code",
   "execution_count": 24,
   "metadata": {},
   "outputs": [],
   "source": [
    "%matplotlib inline\n",
    "import matplotlib.pyplot as plt\n",
    "from sklearn.metrics import roc_curve, auc, roc_auc_score\n",
    "\n",
    "def plot_roc_curve(y_train, y_train_pred, y_test, y_test_pred):\n",
    "    roc_auc_train = roc_auc_score(y_train, y_train_pred)\n",
    "    fpr_train, tpr_train, _ = roc_curve(y_train, y_train_pred)\n",
    "\n",
    "    roc_auc_test = roc_auc_score(y_test, y_test_pred)\n",
    "    fpr_test, tpr_test, _ = roc_curve(y_test, y_test_pred)\n",
    "    plt.figure()\n",
    "    lw = 2\n",
    "    plt.plot(fpr_train, tpr_train, color='green',\n",
    "             lw=lw, label='ROC Train (AUC = %0.4f)' % roc_auc_train)\n",
    "    plt.plot(fpr_test, tpr_test, color='darkorange',\n",
    "             lw=lw, label='ROC Test (AUC = %0.4f)' % roc_auc_test)\n",
    "    plt.plot([0, 1], [0, 1], color='navy', lw=lw, linestyle='--')\n",
    "    plt.xlim([0.0, 1.0])\n",
    "    plt.ylim([0.0, 1.05])\n",
    "    plt.xlabel('False Positive Rate')\n",
    "    plt.ylabel('True Positive Rate')\n",
    "    plt.title('Receiver operating characteristic example')\n",
    "    plt.legend(loc=\"lower right\")\n",
    "    plt.show()\n",
    "    "
   ]
  },
  {
   "cell_type": "code",
   "execution_count": 18,
   "metadata": {},
   "outputs": [
    {
     "data": {
      "image/png": "[encoded data removed]",
      "text/plain": [
       "<Figure size 432x288 with 1 Axes>"
      ]
     },
     "metadata": {},
     "output_type": "display_data"
    }
   ],
   "source": [
    "y_train = res_train['label']\n",
    "y_train_pred = [v[1] for v in res_train['probability']]\n",
    "y_test = res_test['label']\n",
    "y_test_pred = [v[1] for v in res_test['probability']]\n",
    "\n",
    "plot_roc_curve(y_train, y_train_pred, y_test, y_test_pred)"
   ]
  },
  {
   "cell_type": "markdown",
   "metadata": {},
   "source": [
    "### Let's train random forest too!"
   ]
  },
  {
   "cell_type": "code",
   "execution_count": 21,
   "metadata": {},
   "outputs": [],
   "source": [
    "ml = RandomForestClassifier(labelCol=\"label\", featuresCol=\"features\"\n",
    "                            ,numTrees=50#50\n",
    "                            ,featureSubsetStrategy=\"auto\"\n",
    "                            ,impurity='gini'\n",
    "                            ,maxDepth=12#20\n",
    "                            ,minInstancesPerNode=10\n",
    "                            ,maxBins=16\n",
    "                            )\n",
    "model = ml.fit(train)"
   ]
  },
  {
   "cell_type": "code",
   "execution_count": 22,
   "metadata": {},
   "outputs": [
    {
     "name": "stdout",
     "output_type": "stream",
     "text": [
      "+--------------------+----------+-----+--------------------+\n",
      "|         probability|prediction|label|            features|\n",
      "+--------------------+----------+-----+--------------------+\n",
      "|[0.12969719257900...|       1.0|    1|(18,[4,14,15,16],...|\n",
      "|[0.06481238321992...|       1.0|    1|(18,[4,15,17],[11...|\n",
      "|[0.89624280983467...|       0.0|    0|[0.0,51.0,62.0,67...|\n",
      "|[0.84288610336214...|       0.0|    0|(18,[1,2,3,4,8,9,...|\n",
      "|[0.32249320545608...|       1.0|    1|(18,[3,4,15,17],[...|\n",
      "+--------------------+----------+-----+--------------------+\n",
      "only showing top 5 rows\n",
      "\n",
      "+--------------------+----------+-----+--------------------+\n",
      "|         probability|prediction|label|            features|\n",
      "+--------------------+----------+-----+--------------------+\n",
      "|[0.98978945475627...|       0.0|    0|[82.0,222.0,441.0...|\n",
      "|[0.96918885362643...|       0.0|    0|[2.0,16.0,97.0,24...|\n",
      "|[0.88067519668164...|       0.0|    0|(18,[1,2,3,4,14,1...|\n",
      "|[0.92515474370972...|       0.0|    0|(18,[0,1,2,3,4,8,...|\n",
      "|[0.75871938105727...|       0.0|    0|(18,[2,3,4,8,9,17...|\n",
      "+--------------------+----------+-----+--------------------+\n",
      "only showing top 5 rows\n",
      "\n"
     ]
    }
   ],
   "source": [
    "#### predict and evaluate performance\n",
    "\n",
    "# Predict train data\n",
    "predictions_train = model.transform(train)\n",
    "\n",
    "# Select example rows to display.\n",
    "predictions_train.select(\"probability\",\"prediction\", \"label\", \"features\").show(5)\n",
    "res_train = predictions_train.select(\"probability\", \"label\").toPandas()\n",
    "\n",
    "\n",
    "# Predict test data\n",
    "predictions_test = model.transform(test)\n",
    "\n",
    "# Select example rows to display.\n",
    "predictions_test.select(\"probability\",\"prediction\", \"label\", \"features\").show(5)\n",
    "res_test = predictions_test.select(\"probability\", \"label\").toPandas()"
   ]
  },
  {
   "cell_type": "code",
   "execution_count": 25,
   "metadata": {},
   "outputs": [
    {
     "data": {
      "image/png": "[encoded data removed]",
      "text/plain": [
       "<Figure size 432x288 with 1 Axes>"
      ]
     },
     "metadata": {},
     "output_type": "display_data"
    }
   ],
   "source": [
    "y_train = res_train['label']\n",
    "y_train_pred = [v[1] for v in res_train['probability']]\n",
    "y_test = res_test['label']\n",
    "y_test_pred = [v[1] for v in res_test['probability']]\n",
    "\n",
    "plot_roc_curve(y_train, y_train_pred, y_test, y_test_pred)"
   ]
  },
  {
   "cell_type": "code",
   "execution_count": null,
   "metadata": {},
   "outputs": [],
   "source": []
  }
 ],
 "metadata": {
  "kernelspec": {
   "display_name": "Python 3",
   "language": "python",
   "name": "python3"
  },
  "language_info": {
   "codemirror_mode": {
    "name": "ipython",
    "version": 3
   },
   "file_extension": ".py",
   "mimetype": "text/x-python",
   "name": "python",
   "nbconvert_exporter": "python",
   "pygments_lexer": "ipython3",
   "version": "3.6.5"
  }
 },
 "nbformat": 4,
 "nbformat_minor": 2
}
